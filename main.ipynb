{
 "metadata": {
  "language_info": {
   "codemirror_mode": {
    "name": "ipython",
    "version": 3
   },
   "file_extension": ".py",
   "mimetype": "text/x-python",
   "name": "python",
   "nbconvert_exporter": "python",
   "pygments_lexer": "ipython3",
   "version": "3.8.5-final"
  },
  "orig_nbformat": 2,
  "kernelspec": {
   "name": "python3",
   "display_name": "Python 3"
  }
 },
 "nbformat": 4,
 "nbformat_minor": 2,
 "cells": [
  {
   "source": [
    "The worflow:\n",
    "\n",
    "for each frame:\n",
    "    mask cars appearing on frame at instant t (maybe use dilation)\n",
    "    extract edges (evaluate this two changing the order)\n",
    "    get Lines filtered by certain range of angles (get horizontal and vertical, but separately) (maybe explore this for lane markings)\n",
    "Once lines are saved:\n",
    "        get histogram of orientations\n",
    "        get histogram of lengths\n",
    "        remove outliers\n",
    "map all endpoints of lines to pre defined lengths\n",
    "use them to train a MLP.\n",
    "Test\n",
    "    "
   ],
   "cell_type": "markdown",
   "metadata": {}
  },
  {
   "cell_type": "code",
   "execution_count": 1,
   "metadata": {},
   "outputs": [],
   "source": [
    "import cv2\n",
    "import numpy as np\n",
    "import torchvision.transforms as T\n",
    "\n",
    "from objectDetection import *\n",
    "from carMasking import *\n",
    "from EdgesLinesUtils import *\n",
    "\n",
    "%matplotlib inline\n",
    "\n",
    "forExt = DLForegroundExtractor(512)\n",
    "videoPath = \"/home/hector/speed/speed_DS/v1.mp4\""
   ]
  },
  {
   "cell_type": "code",
   "execution_count": 19,
   "metadata": {},
   "outputs": [],
   "source": [
    "forExt = TraditionalForegroundExtractor()\n",
    "cap = cv2.VideoCapture(\"/home/hector/speed/speed_DS/v1.mp4\")\n",
    "if (cap.isOpened()== False): \n",
    "  print(\"Error opening video stream or file\")\n",
    "\n",
    "while(cap.isOpened()):\n",
    "  ret, frame = cap.read()\n",
    "  if ret == True:\n",
    "    grayFrame = convertImg2Grayscale(frame)\n",
    "    foregroundFrame = forExt.maskCarsAtFrame(grayFrame)\n",
    "    edgeMap = getEdgeMap(foregroundFrame,100,200)\n",
    "    lines = getLinesFromEdges(edgeMap,(-15,15), 10, 0)\n",
    "    empty = np.zeros((edgeMap.shape[0],edgeMap.shape[1],3))\n",
    "    empty[:,:,0] = edgeMap\n",
    "    linesImg = drawLinesOnImg(empty, lines)\n",
    "    cv2.imshow('Frame',linesImg)\n",
    "    if cv2.waitKey(25) & 0xFF == ord('q'):\n",
    "      break\n",
    "  else: \n",
    "    break\n",
    "cap.release()\n",
    "cv2.destroyAllWindows()"
   ]
  },
  {
   "cell_type": "code",
   "execution_count": 3,
   "metadata": {},
   "outputs": [],
   "source": [
    "cap = cv2.VideoCapture(\"/home/hector/speed/speed_DS/v1.mp4\")\n",
    "if (cap.isOpened()== False): \n",
    "  print(\"Error opening video stream or file\")\n",
    "\n",
    "while(cap.isOpened()):\n",
    "  ret, frame = cap.read()\n",
    "  if ret == True:\n",
    "    frame = cv2.resize(frame, (512,512))\n",
    "    grayFrame = convertImg2Grayscale(frame)\n",
    "    maskedFrame = forExt.segment(frame, grayFrame)\n",
    "    edgeMap = getEdgeMap(maskedFrame,100,200)\n",
    "    lines = getLinesFromEdges(edgeMap,(-15,15), 10, 0)\n",
    "    empty = np.zeros((edgeMap.shape[0],edgeMap.shape[1],3))\n",
    "    empty[:,:,0] = edgeMap\n",
    "    linesImg = drawLinesOnImg(empty, lines)\n",
    "    cv2.imshow('Frame',linesImg)\n",
    "    if cv2.waitKey(25) & 0xFF == ord('q'):\n",
    "      break\n",
    "  else: \n",
    "    break\n",
    "cap.release()\n",
    "cv2.destroyAllWindows()"
   ]
  },
  {
   "cell_type": "code",
   "execution_count": 3,
   "metadata": {
    "tags": []
   },
   "outputs": [],
   "source": [
    "yolo = objectDetector((512,512),\n",
    "                       weightPath=\"yolov3/weights/yolov3.weights\",\n",
    "                       modelDef=\"yolov3/config/yolov3.cfg\")\n",
    "viz = objectVisualizer(classPath=\"yolov3/data/coco.names\")\n",
    "tools = objectFocusTools((512,512),yolo)\n",
    "\n",
    "cap = cv2.VideoCapture(\"/home/hector/speed/speed_DS/v1.mp4\")\n",
    "if (cap.isOpened()== False): \n",
    "  print(\"Error opening video stream or file\")\n",
    "while(cap.isOpened()):\n",
    "  ret, frame = cap.read()\n",
    "  if ret == True:\n",
    "    frame = cv2.resize(frame, (512,512))\n",
    "    grayFrame = convertImg2Grayscale(frame)\n",
    "    lines, edgeMap = tools.getObjectLinesAtFrame(frame,grayFrame, (-20,5))\n",
    "    empty = np.zeros((edgeMap.shape[0],edgeMap.shape[1],3))\n",
    "    empty[:,:,0] = edgeMap\n",
    "    #frameObjs = viz.drawBoxes(frame,detections)\n",
    "    linesImg = drawLinesOnImg(empty, lines)\n",
    "    cv2.imshow('Frame',linesImg)\n",
    "    if cv2.waitKey(25) & 0xFF == ord('q'):\n",
    "      break\n",
    "  else: \n",
    "    break\n",
    "cap.release()\n",
    "cv2.destroyAllWindows()"
   ]
  },
  {
   "cell_type": "code",
   "execution_count": 4,
   "metadata": {},
   "outputs": [
    {
     "output_type": "stream",
     "name": "stdout",
     "text": [
      "done\n"
     ]
    }
   ],
   "source": [
    "cv2.imshow(\"frame\", frame)\n",
    "cv2.waitframe)\n",
    "    if cv2.waitKey(25) & 0xFF == ord('q'):\n",
    "          break\n",
    "            eframe"
   ]
  },
  {
   "cell_type": "code",
   "execution_count": null,
   "metadata": {},
   "outputs": [],
   "source": []
  }
 ]
}