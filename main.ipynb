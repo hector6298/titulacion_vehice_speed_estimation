{
 "metadata": {
  "language_info": {
   "codemirror_mode": {
    "name": "ipython",
    "version": 3
   },
   "file_extension": ".py",
   "mimetype": "text/x-python",
   "name": "python",
   "nbconvert_exporter": "python",
   "pygments_lexer": "ipython3",
   "version": "3.8.3-final"
  },
  "orig_nbformat": 2,
  "kernelspec": {
   "name": "python3",
   "display_name": "Python 3"
  }
 },
 "nbformat": 4,
 "nbformat_minor": 2,
 "cells": [
  {
   "source": [
    "The worflow:\n",
    "\n",
    "for each frame:\n",
    "    mask cars appearing on frame at instant t (maybe use dilation)\n",
    "    extract edges (evaluate this two changing the order)\n",
    "    get Lines filtered by certain range of angles (get horizontal and vertical, but separately) (maybe explore this for lane markings)\n",
    "Once lines are saved:\n",
    "        get histogram of orientations\n",
    "        get histogram of lengths\n",
    "        remove outliers\n",
    "map all endpoints of lines to pre defined lengths\n",
    "use them to train a MLP.\n",
    "Test\n",
    "    "
   ],
   "cell_type": "markdown",
   "metadata": {}
  },
  {
   "cell_type": "code",
   "execution_count": 1,
   "metadata": {},
   "outputs": [],
   "source": [
    "import cv2\n",
    "import numpy as np\n",
    "\n",
    "from carMasking import *\n",
    "from utils import *\n",
    "\n",
    "forExt = foregroundExtractor()"
   ]
  },
  {
   "cell_type": "code",
   "execution_count": 2,
   "metadata": {},
   "outputs": [],
   "source": [
    "cap = cv2.VideoCapture('video/v1.mp4')\n",
    "if (cap.isOpened()== False): \n",
    "  print(\"Error opening video stream or file\")\n",
    "\n",
    "while(cap.isOpened()):\n",
    "  ret, frame = cap.read()\n",
    "  if ret == True:\n",
    "    grayFrame = convertImg2Grayscale(frame)\n",
    "    foregroundFrame = forExt.maskCarsAtFrame(grayFrame)\n",
    "    cv2.imshow('Frame',foregroundFrame)\n",
    "    if cv2.waitKey(25) & 0xFF == ord('q'):\n",
    "      break\n",
    "  else: \n",
    "    break\n",
    "cap.release()\n",
    "cv2.destroyAllWindows()"
   ]
  },
  {
   "cell_type": "code",
   "execution_count": null,
   "metadata": {},
   "outputs": [],
   "source": []
  }
 ]
}